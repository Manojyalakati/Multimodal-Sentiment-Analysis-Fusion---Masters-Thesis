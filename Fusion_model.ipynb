{
  "nbformat": 4,
  "nbformat_minor": 0,
  "metadata": {
    "colab": {
      "provenance": [],
      "machine_shape": "hm",
      "gpuType": "A100"
    },
    "kernelspec": {
      "name": "python3",
      "display_name": "Python 3"
    },
    "language_info": {
      "name": "python"
    },
    "accelerator": "GPU"
  },
  "cells": [
    {
      "cell_type": "code",
      "execution_count": null,
      "metadata": {
        "id": "2XyqC0ADLIDP"
      },
      "outputs": [],
      "source": []
    },
    {
      "cell_type": "code",
      "execution_count": null,
      "metadata": {
        "colab": {
          "base_uri": "https://localhost:8080/"
        },
        "id": "RsHkuVxbhdee",
        "outputId": "0b75fad2-8346-43ea-d6df-20df6769a641"
      },
      "outputs": [
        {
          "output_type": "stream",
          "name": "stdout",
          "text": [
            "Mounted at /content/drive\n"
          ]
        }
      ],
      "source": [
        "from google.colab import drive\n",
        "drive.mount('/content/drive')"
      ]
    },
    {
      "cell_type": "code",
      "source": [
        "import zipfile\n",
        "import os\n",
        "\n",
        "# Path to the zip file in Google Drive\n",
        "zip_file_path = '/content/drive/MyDrive/dataset/MVSA-multiple.zip'\n",
        "extract_path = '/content/dataset'\n",
        "\n",
        "# Create the extraction directory\n",
        "os.makedirs(extract_path, exist_ok=True)\n",
        "\n",
        "# Unzip the file\n",
        "with zipfile.ZipFile(zip_file_path, 'r') as zip_ref:\n",
        "    zip_ref.extractall(extract_path)\n",
        "\n",
        "# Verify the extraction\n",
        "os.listdir(extract_path)"
      ],
      "metadata": {
        "colab": {
          "base_uri": "https://localhost:8080/"
        },
        "id": "IXRjp32Pho5V",
        "outputId": "3b782c29-d702-43eb-87e4-ae98c2d0cd64"
      },
      "execution_count": null,
      "outputs": [
        {
          "output_type": "execute_result",
          "data": {
            "text/plain": [
              "['MVSA']"
            ]
          },
          "metadata": {},
          "execution_count": 2
        }
      ]
    },
    {
      "cell_type": "code",
      "source": [
        "pip install keras_tuner"
      ],
      "metadata": {
        "colab": {
          "base_uri": "https://localhost:8080/"
        },
        "id": "IGC4ryeHCZB3",
        "outputId": "f14e9de8-5544-43f7-f5bc-a15bf0113e53"
      },
      "execution_count": null,
      "outputs": [
        {
          "output_type": "stream",
          "name": "stdout",
          "text": [
            "Collecting keras_tuner\n",
            "  Downloading keras_tuner-1.4.7-py3-none-any.whl.metadata (5.4 kB)\n",
            "Requirement already satisfied: keras in /usr/local/lib/python3.10/dist-packages (from keras_tuner) (3.4.1)\n",
            "Requirement already satisfied: packaging in /usr/local/lib/python3.10/dist-packages (from keras_tuner) (24.1)\n",
            "Requirement already satisfied: requests in /usr/local/lib/python3.10/dist-packages (from keras_tuner) (2.32.3)\n",
            "Collecting kt-legacy (from keras_tuner)\n",
            "  Downloading kt_legacy-1.0.5-py3-none-any.whl.metadata (221 bytes)\n",
            "Requirement already satisfied: absl-py in /usr/local/lib/python3.10/dist-packages (from keras->keras_tuner) (1.4.0)\n",
            "Requirement already satisfied: numpy in /usr/local/lib/python3.10/dist-packages (from keras->keras_tuner) (1.26.4)\n",
            "Requirement already satisfied: rich in /usr/local/lib/python3.10/dist-packages (from keras->keras_tuner) (13.8.0)\n",
            "Requirement already satisfied: namex in /usr/local/lib/python3.10/dist-packages (from keras->keras_tuner) (0.0.8)\n",
            "Requirement already satisfied: h5py in /usr/local/lib/python3.10/dist-packages (from keras->keras_tuner) (3.11.0)\n",
            "Requirement already satisfied: optree in /usr/local/lib/python3.10/dist-packages (from keras->keras_tuner) (0.12.1)\n",
            "Requirement already satisfied: ml-dtypes in /usr/local/lib/python3.10/dist-packages (from keras->keras_tuner) (0.4.0)\n",
            "Requirement already satisfied: charset-normalizer<4,>=2 in /usr/local/lib/python3.10/dist-packages (from requests->keras_tuner) (3.3.2)\n",
            "Requirement already satisfied: idna<4,>=2.5 in /usr/local/lib/python3.10/dist-packages (from requests->keras_tuner) (3.8)\n",
            "Requirement already satisfied: urllib3<3,>=1.21.1 in /usr/local/lib/python3.10/dist-packages (from requests->keras_tuner) (2.0.7)\n",
            "Requirement already satisfied: certifi>=2017.4.17 in /usr/local/lib/python3.10/dist-packages (from requests->keras_tuner) (2024.7.4)\n",
            "Requirement already satisfied: typing-extensions>=4.5.0 in /usr/local/lib/python3.10/dist-packages (from optree->keras->keras_tuner) (4.12.2)\n",
            "Requirement already satisfied: markdown-it-py>=2.2.0 in /usr/local/lib/python3.10/dist-packages (from rich->keras->keras_tuner) (3.0.0)\n",
            "Requirement already satisfied: pygments<3.0.0,>=2.13.0 in /usr/local/lib/python3.10/dist-packages (from rich->keras->keras_tuner) (2.16.1)\n",
            "Requirement already satisfied: mdurl~=0.1 in /usr/local/lib/python3.10/dist-packages (from markdown-it-py>=2.2.0->rich->keras->keras_tuner) (0.1.2)\n",
            "Downloading keras_tuner-1.4.7-py3-none-any.whl (129 kB)\n",
            "\u001b[2K   \u001b[90m━━━━━━━━━━━━━━━━━━━━━━━━━━━━━━━━━━━━━━━━\u001b[0m \u001b[32m129.1/129.1 kB\u001b[0m \u001b[31m2.6 MB/s\u001b[0m eta \u001b[36m0:00:00\u001b[0m\n",
            "\u001b[?25hDownloading kt_legacy-1.0.5-py3-none-any.whl (9.6 kB)\n",
            "Installing collected packages: kt-legacy, keras_tuner\n",
            "Successfully installed keras_tuner-1.4.7 kt-legacy-1.0.5\n"
          ]
        }
      ]
    },
    {
      "cell_type": "code",
      "source": [
        "import os\n",
        "import numpy as np\n",
        "import pandas as pd\n",
        "import tensorflow as tf\n",
        "from sklearn.model_selection import train_test_split\n",
        "from sklearn.utils import class_weight\n",
        "from tensorflow.keras.preprocessing.text import Tokenizer\n",
        "from tensorflow.keras.preprocessing.sequence import pad_sequences\n",
        "from tensorflow.keras.preprocessing.image import ImageDataGenerator\n",
        "from tensorflow.keras.utils import to_categorical\n",
        "from tensorflow.keras.applications import DenseNet121\n",
        "from tensorflow.keras.layers import Dense, Dropout, BatchNormalization, GlobalAveragePooling2D, Conv2D, MaxPooling2D, Flatten, Input, LSTM, Bidirectional, Embedding, GRU, Multiply, concatenate\n",
        "from tensorflow.keras.models import Model\n",
        "from tensorflow.keras.callbacks import EarlyStopping, ModelCheckpoint\n",
        "from tensorflow.keras.optimizers import Adam\n",
        "from keras_tuner.tuners import RandomSearch\n",
        "import re\n",
        "import nltk\n",
        "from nltk.corpus import stopwords\n",
        "from nltk.tokenize import word_tokenize\n",
        "from nltk.stem import WordNetLemmatizer\n",
        "from sklearn.metrics import classification_report, confusion_matrix\n",
        "\n",
        "nltk.download('stopwords')\n",
        "nltk.download('punkt')\n",
        "nltk.download('wordnet')\n"
      ],
      "metadata": {
        "colab": {
          "base_uri": "https://localhost:8080/"
        },
        "id": "jHAv25lbLPud",
        "outputId": "39cc74dd-2722-4ad9-fda1-3ae03f41469c"
      },
      "execution_count": null,
      "outputs": [
        {
          "output_type": "stream",
          "name": "stderr",
          "text": [
            "[nltk_data] Downloading package stopwords to /root/nltk_data...\n",
            "[nltk_data]   Unzipping corpora/stopwords.zip.\n",
            "[nltk_data] Downloading package punkt to /root/nltk_data...\n",
            "[nltk_data]   Unzipping tokenizers/punkt.zip.\n",
            "[nltk_data] Downloading package wordnet to /root/nltk_data...\n"
          ]
        },
        {
          "output_type": "execute_result",
          "data": {
            "text/plain": [
              "True"
            ]
          },
          "metadata": {},
          "execution_count": 4
        }
      ]
    },
    {
      "cell_type": "code",
      "source": [
        "\n",
        "# Initialize the lemmatizer and stop words\n",
        "lemmatizer = WordNetLemmatizer()\n",
        "stop_words = set(stopwords.words('english'))\n",
        "\n",
        "\n",
        "# Load data\n",
        "label_results_path = os.path.join(extract_path, 'MVSA/labelResultAll.txt')\n",
        "data_folder_path = os.path.join(extract_path, 'MVSA/data')\n",
        "label_results = pd.read_csv(label_results_path, delimiter='\\t', header=None, names=['ID', 'annotation1', 'annotation2', 'annotation3'])\n",
        "\n",
        "# Split annotations and get majority sentiment\n",
        "def safe_split(annotation):\n",
        "    parts = annotation.split(',')\n",
        "    return parts if len(parts) == 2 else ['unknown', 'unknown']\n",
        "\n",
        "for i in range(3):\n",
        "    label_results[[f'text_sentiment_{i+1}', f'image_sentiment_{i+1}']] = label_results[f'annotation{i+1}'].apply(safe_split).apply(pd.Series)\n",
        "label_results.drop(columns=[f'annotation{i+1}' for i in range(3)], inplace=True)\n",
        "\n",
        "from collections import Counter\n",
        "def get_majority_sentiment(row):\n",
        "    text_sentiments = row[[f'text_sentiment_{i+1}' for i in range(3)]]\n",
        "    image_sentiments = row[[f'image_sentiment_{i+1}' for i in range(3)]]\n",
        "    text_sentiment = Counter(text_sentiments).most_common(1)[0][0] if Counter(text_sentiments).most_common(1)[0][1] > 1 else 'unknown'\n",
        "    image_sentiment = Counter(image_sentiments).most_common(1)[0][0] if Counter(image_sentiments).most_common(1)[0][1] > 1 else 'unknown'\n",
        "    return pd.Series([text_sentiment, image_sentiment], index=['text_sentiment', 'image_sentiment'])\n",
        "\n",
        "label_results[['text_sentiment', 'image_sentiment']] = label_results.apply(get_majority_sentiment, axis=1)\n",
        "label_results = label_results[(label_results['text_sentiment'] != 'unknown') & (label_results['image_sentiment'] != 'unknown')]\n",
        "\n",
        "# Load the image-text data\n",
        "files = os.listdir(data_folder_path)\n",
        "image_files = [f for f in files if f.endswith('.jpg')]\n",
        "text_files = [f for f in files if f.endswith('.txt')]\n",
        "\n",
        "# Function to read text file with different encodings\n",
        "def read_text_file(file_path):\n",
        "    encodings = ['utf-8', 'latin-1', 'ISO-8859-1']\n",
        "    for encoding in encodings:\n",
        "        try:\n",
        "            with open(file_path, 'r', encoding=encoding) as file:\n",
        "                return file.read()\n",
        "        except UnicodeDecodeError:\n",
        "            continue\n",
        "    return None\n",
        "\n",
        "data = {'ID': [], 'image_path': [], 'text': []}\n",
        "for image_file in image_files:\n",
        "    file_id = os.path.splitext(image_file)[0]\n",
        "    text_file = file_id + '.txt'\n",
        "    if text_file in text_files:\n",
        "        text_content = read_text_file(os.path.join(data_folder_path, text_file))\n",
        "        if text_content:\n",
        "            data['ID'].append(file_id)\n",
        "            data['image_path'].append(os.path.join(data_folder_path, image_file))\n",
        "            data['text'].append(text_content)\n",
        "\n",
        "df = pd.DataFrame(data)\n",
        "df['ID'] = df['ID'].astype(str)\n",
        "label_results['ID'] = label_results['ID'].astype(str)\n",
        "df = pd.merge(df, label_results[['ID', 'text_sentiment', 'image_sentiment']], on='ID')\n",
        "\n",
        "# Filter to keep only rows where text sentiment and image sentiment are the same\n",
        "df = df[df['text_sentiment'] == df['image_sentiment']]\n",
        "\n",
        "\n"
      ],
      "metadata": {
        "id": "lKdivxhtLQm1"
      },
      "execution_count": null,
      "outputs": []
    },
    {
      "cell_type": "code",
      "source": [
        "# Convert labels to numerical values\n",
        "label_mapping = {'positive': 2, 'neutral': 1, 'negative': 0}\n",
        "df['text_sentiment'] = df['text_sentiment'].map(label_mapping)\n",
        "df['image_sentiment'] = df['image_sentiment'].map(label_mapping)\n",
        "\n",
        "# Text preprocessing\n",
        "def preprocess_text(text):\n",
        "    text = text.lower()\n",
        "    text = re.sub(r'[^a-z\\s]', '', text)\n",
        "    tokens = word_tokenize(text)\n",
        "    tokens = [lemmatizer.lemmatize(token) for token in tokens if token not in stop_words]\n",
        "    return ' '.join(tokens)\n",
        "\n",
        "df['processed_text'] = df['text'].apply(preprocess_text)\n",
        "\n",
        "# Tokenize and pad sequences\n",
        "tokenizer = Tokenizer(num_words=5000, oov_token='<OOV>')\n",
        "tokenizer.fit_on_texts(df['processed_text'].values)\n",
        "sequences = tokenizer.texts_to_sequences(df['processed_text'].values)\n",
        "\n",
        "# Define maximum length based on 95% coverage\n",
        "df['text_length'] = df['processed_text'].apply(lambda x: len(x.split()))\n",
        "max_length_coverage = df['text_length'].quantile(0.95)\n",
        "max_sequence_length = int(max_length_coverage)\n",
        "\n",
        "# Pad sequences\n",
        "padded_sequences = pad_sequences(sequences, maxlen=max_sequence_length, padding='post', truncating='post')\n",
        "\n",
        "# Encode the sentiment labels for text data\n",
        "y_text = tf.keras.utils.to_categorical(df['text_sentiment'], num_classes=3)"
      ],
      "metadata": {
        "id": "4UoocDO9NYGy"
      },
      "execution_count": null,
      "outputs": []
    },
    {
      "cell_type": "code",
      "source": [
        "# Image preprocessing with advanced augmentations\n",
        "img_height, img_width = 224, 224\n",
        "image_gen = ImageDataGenerator(\n",
        "    rescale=1./255,\n",
        "    rotation_range=30,\n",
        "    width_shift_range=0.3,\n",
        "    height_shift_range=0.3,\n",
        "    shear_range=0.3,\n",
        "    zoom_range=0.3,\n",
        "    horizontal_flip=True,\n",
        "    fill_mode='nearest',\n",
        "    preprocessing_function=tf.keras.applications.densenet.preprocess_input\n",
        ")\n",
        "\n",
        "def load_and_preprocess_image(image_path):\n",
        "    img = tf.keras.preprocessing.image.load_img(image_path, target_size=(img_height, img_width))\n",
        "    img_array = tf.keras.preprocessing.image.img_to_array(img)\n",
        "    img_array = tf.expand_dims(img_array, 0)\n",
        "    return img_array\n",
        "\n",
        "image_data = np.array([load_and_preprocess_image(img_path)[0] for img_path in df['image_path']])\n",
        "\n",
        "# Train-test split\n",
        "X_train_text, X_val_text, y_train_text, y_val_text = train_test_split(padded_sequences, y_text, test_size=0.2, random_state=42, stratify=y_text)\n",
        "X_train_img, X_val_img, y_train_img, y_val_img = train_test_split(image_data, y_text, test_size=0.2, random_state=42, stratify=y_text)\n",
        "\n",
        "# Adjust class weights\n",
        "class_weights_dict = {\n",
        "    0: 1.0 * 4.0,  # Increase weight for Negative class, moderate increase\n",
        "    1: 0.98 * 1.5, # Moderate increase for Neutral class\n",
        "    2: 1.0         # Keep Positive class weight as is\n",
        "}"
      ],
      "metadata": {
        "id": "Q3ImOeWYNZxd"
      },
      "execution_count": null,
      "outputs": []
    },
    {
      "cell_type": "code",
      "source": [
        "def build_fusion_model(hp):\n",
        "    # Text Model\n",
        "    text_input = Input(shape=(X_train_text.shape[1],))\n",
        "    x_text = Embedding(input_dim=5000, output_dim=hp.Int('embedding_dim', min_value=64, max_value=256, step=32))(text_input)\n",
        "    for i in range(hp.Int('lstm_layers', 1, 3)):\n",
        "        x_text = Bidirectional(LSTM(units=hp.Int(f'lstm_units_{i}', min_value=32, max_value=128, step=32),\n",
        "                                    return_sequences=(i < hp.Int('lstm_layers', 1, 3) - 1),\n",
        "                                    kernel_regularizer=tf.keras.regularizers.l2(hp.Choice('l2_reg_text', values=[1e-4, 1e-3]))))(x_text)\n",
        "        x_text = BatchNormalization()(x_text)\n",
        "        x_text = Dropout(rate=hp.Float('dropout_rate_text', min_value=0.3, max_value=0.5, step=0.1))(x_text)\n",
        "\n",
        "    # CNN Model (Image)\n",
        "    base_model = DenseNet121(include_top=False, input_shape=(img_height, img_width, 3), weights='imagenet')\n",
        "    x_img = base_model.output\n",
        "    for i in range(hp.Int('cnn_layers', 1, 3)):\n",
        "        x_img = Conv2D(hp.Int('filters', 32, 128, step=32), (3, 3), activation='relu', padding='same', kernel_regularizer=tf.keras.regularizers.l2(hp.Choice('l2_reg_img', values=[1e-4, 1e-3])))(x_img)\n",
        "        if x_img.shape[1] > 2 and x_img.shape[2] > 2:\n",
        "            x_img = MaxPooling2D((2, 2))(x_img)\n",
        "        x_img = BatchNormalization()(x_img)\n",
        "        x_img = Dropout(hp.Float('dropout_rate_img', min_value=0.3, max_value=0.5, step=0.1))(x_img)\n",
        "\n",
        "    x_img = GlobalAveragePooling2D()(x_img)\n",
        "\n",
        "    # Fusion  Mechanism\n",
        "    combined_input = concatenate([x_text, x_img])\n",
        "\n",
        "    # Attention Mechanism\n",
        "    attention = Dense(128, activation='tanh')(combined_input)\n",
        "    attention = Dense(1, activation='sigmoid')(attention)\n",
        "    attention = Multiply()([combined_input, attention])\n",
        "\n",
        "    # Dense Layers\n",
        "    fusion_output = Dense(hp.Int('dense_units', 64, 256, step=64), activation='relu', kernel_regularizer=tf.keras.regularizers.l2(hp.Choice('l2_reg_fusion', values=[1e-4, 1e-3])))(attention)\n",
        "    fusion_output = Dropout(hp.Float('dropout_rate_fusion', min_value=0.3, max_value=0.5, step=0.1))(fusion_output)\n",
        "    fusion_output = BatchNormalization()(fusion_output)\n",
        "    final_output = Dense(3, activation='softmax')(fusion_output)\n",
        "\n",
        "    model = Model(inputs=[text_input, base_model.input], outputs=final_output)\n",
        "    model.compile(optimizer=Adam(hp.Choice('learning_rate', values=[1e-3, 1e-4, 1e-5])),\n",
        "                  loss='categorical_crossentropy',\n",
        "                  metrics=['accuracy'])\n",
        "\n",
        "    return model\n",
        "\n",
        "    model.summary()\n"
      ],
      "metadata": {
        "id": "xqBSJxs0LcHE"
      },
      "execution_count": null,
      "outputs": []
    },
    {
      "cell_type": "code",
      "source": [
        "\n",
        "\n",
        "tuner = RandomSearch(\n",
        "    build_fusion_model,\n",
        "    objective='val_accuracy',\n",
        "    max_trials=20,\n",
        "    executions_per_trial=1,\n",
        "    directory='/content/drive/MyDrive/sentiment_analysis_model_fusion1/',\n",
        "    project_name='fusion_model_tuning'\n",
        ")\n",
        "\n",
        "# Run the hyperparameter search\n",
        "tuner.search([X_train_text, X_train_img], y_train_text, epochs=50, validation_split=0.2,\n",
        "             class_weight=class_weights_dict,  # Apply class weights during tuning\n",
        "             callbacks=[EarlyStopping(monitor='val_loss', patience=5)])\n",
        "\n",
        "# Get the best hyperparameters and train the best model\n",
        "best_hps = tuner.get_best_hyperparameters(num_trials=1)[0]\n",
        "fusion_model = tuner.hypermodel.build(best_hps)\n",
        "history = fusion_model.fit([X_train_text, X_train_img], y_train_text, epochs=50, batch_size=32,\n",
        "                           validation_split=0.2, class_weight=class_weights_dict,\n",
        "                           callbacks=[EarlyStopping(monitor='val_loss', patience=5)])\n",
        "\n",
        "# Save the best fusion model\n",
        "fusion_model_save_path = '/content/drive/MyDrive/sentiment_analysis_model_fusion1/best_fusion_model.keras'\n",
        "fusion_model.save(fusion_model_save_path)\n"
      ],
      "metadata": {
        "colab": {
          "base_uri": "https://localhost:8080/"
        },
        "id": "IDO5z2h8Lfld",
        "outputId": "e75b06f3-3019-4439-f06c-e66f49634e57"
      },
      "execution_count": null,
      "outputs": [
        {
          "output_type": "stream",
          "name": "stdout",
          "text": [
            "Reloading Tuner from /content/drive/MyDrive/sentiment_analysis_model_fusion1/fusion_model_tuning/tuner0.json\n",
            "Downloading data from https://storage.googleapis.com/tensorflow/keras-applications/densenet/densenet121_weights_tf_dim_ordering_tf_kernels_notop.h5\n",
            "\u001b[1m29084464/29084464\u001b[0m \u001b[32m━━━━━━━━━━━━━━━━━━━━\u001b[0m\u001b[37m\u001b[0m \u001b[1m0s\u001b[0m 0us/step\n",
            "Epoch 1/50\n",
            "\u001b[1m252/252\u001b[0m \u001b[32m━━━━━━━━━━━━━━━━━━━━\u001b[0m\u001b[37m\u001b[0m \u001b[1m131s\u001b[0m 214ms/step - accuracy: 0.3381 - loss: 2.5889 - val_accuracy: 0.4430 - val_loss: 1.7240\n",
            "Epoch 2/50\n",
            "\u001b[1m252/252\u001b[0m \u001b[32m━━━━━━━━━━━━━━━━━━━━\u001b[0m\u001b[37m\u001b[0m \u001b[1m48s\u001b[0m 191ms/step - accuracy: 0.4725 - loss: 2.1031 - val_accuracy: 0.4851 - val_loss: 1.6165\n",
            "Epoch 3/50\n",
            "\u001b[1m252/252\u001b[0m \u001b[32m━━━━━━━━━━━━━━━━━━━━\u001b[0m\u001b[37m\u001b[0m \u001b[1m48s\u001b[0m 190ms/step - accuracy: 0.5315 - loss: 1.9292 - val_accuracy: 0.5491 - val_loss: 1.4803\n",
            "Epoch 4/50\n",
            "\u001b[1m252/252\u001b[0m \u001b[32m━━━━━━━━━━━━━━━━━━━━\u001b[0m\u001b[37m\u001b[0m \u001b[1m48s\u001b[0m 190ms/step - accuracy: 0.5844 - loss: 1.7432 - val_accuracy: 0.6042 - val_loss: 1.4116\n",
            "Epoch 5/50\n",
            "\u001b[1m252/252\u001b[0m \u001b[32m━━━━━━━━━━━━━━━━━━━━\u001b[0m\u001b[37m\u001b[0m \u001b[1m48s\u001b[0m 190ms/step - accuracy: 0.6539 - loss: 1.5581 - val_accuracy: 0.5312 - val_loss: 1.5524\n",
            "Epoch 6/50\n",
            "\u001b[1m252/252\u001b[0m \u001b[32m━━━━━━━━━━━━━━━━━━━━\u001b[0m\u001b[37m\u001b[0m \u001b[1m48s\u001b[0m 190ms/step - accuracy: 0.7125 - loss: 1.3856 - val_accuracy: 0.6314 - val_loss: 1.4907\n",
            "Epoch 7/50\n",
            "\u001b[1m252/252\u001b[0m \u001b[32m━━━━━━━━━━━━━━━━━━━━\u001b[0m\u001b[37m\u001b[0m \u001b[1m48s\u001b[0m 190ms/step - accuracy: 0.7820 - loss: 1.1680 - val_accuracy: 0.6200 - val_loss: 1.3528\n",
            "Epoch 8/50\n",
            "\u001b[1m252/252\u001b[0m \u001b[32m━━━━━━━━━━━━━━━━━━━━\u001b[0m\u001b[37m\u001b[0m \u001b[1m48s\u001b[0m 190ms/step - accuracy: 0.8220 - loss: 1.0114 - val_accuracy: 0.5704 - val_loss: 1.4721\n",
            "Epoch 9/50\n",
            "\u001b[1m252/252\u001b[0m \u001b[32m━━━━━━━━━━━━━━━━━━━━\u001b[0m\u001b[37m\u001b[0m \u001b[1m48s\u001b[0m 191ms/step - accuracy: 0.8511 - loss: 0.9001 - val_accuracy: 0.5680 - val_loss: 1.6282\n",
            "Epoch 10/50\n",
            "\u001b[1m252/252\u001b[0m \u001b[32m━━━━━━━━━━━━━━━━━━━━\u001b[0m\u001b[37m\u001b[0m \u001b[1m48s\u001b[0m 191ms/step - accuracy: 0.9008 - loss: 0.7574 - val_accuracy: 0.6200 - val_loss: 1.6685\n",
            "Epoch 11/50\n",
            "\u001b[1m252/252\u001b[0m \u001b[32m━━━━━━━━━━━━━━━━━━━━\u001b[0m\u001b[37m\u001b[0m \u001b[1m48s\u001b[0m 191ms/step - accuracy: 0.9123 - loss: 0.6993 - val_accuracy: 0.6205 - val_loss: 1.6328\n",
            "Epoch 12/50\n",
            "\u001b[1m252/252\u001b[0m \u001b[32m━━━━━━━━━━━━━━━━━━━━\u001b[0m\u001b[37m\u001b[0m \u001b[1m48s\u001b[0m 191ms/step - accuracy: 0.9264 - loss: 0.6081 - val_accuracy: 0.6280 - val_loss: 1.5882\n"
          ]
        }
      ]
    },
    {
      "cell_type": "code",
      "source": [
        "best_hps = tuner.get_best_hyperparameters(num_trials=1)[0]\n"
      ],
      "metadata": {
        "id": "TH6nwEKebQq6"
      },
      "execution_count": null,
      "outputs": []
    },
    {
      "cell_type": "code",
      "source": [
        "print(f\"Best embedding dimension: {best_hps.get('embedding_dim')}\")\n",
        "print(f\"Number of LSTM layers: {best_hps.get('lstm_layers')}\")\n",
        "for i in range(best_hps.get('lstm_layers')):\n",
        "    print(f\"LSTM units in layer {i+1}: {best_hps.get(f'lstm_units_{i}')}\")\n",
        "print(f\"Dropout rate for text: {best_hps.get('dropout_rate_text')}\")\n",
        "print(f\"Number of CNN layers: {best_hps.get('cnn_layers')}\")\n",
        "print(f\"Filters in CNN layers: {best_hps.get('filters')}\")\n",
        "print(f\"Dropout rate for image: {best_hps.get('dropout_rate_img')}\")\n",
        "print(f\"Dense layer units: {best_hps.get('dense_units')}\")\n",
        "print(f\"Dropout rate for fusion: {best_hps.get('dropout_rate_fusion')}\")\n",
        "print(f\"Learning rate: {best_hps.get('learning_rate')}\")\n"
      ],
      "metadata": {
        "colab": {
          "base_uri": "https://localhost:8080/"
        },
        "id": "AxtDN_UBbSjc",
        "outputId": "8ae85e19-16c7-4395-c139-33d82cc8620d"
      },
      "execution_count": null,
      "outputs": [
        {
          "output_type": "stream",
          "name": "stdout",
          "text": [
            "Best embedding dimension: 64\n",
            "Number of LSTM layers: 2\n",
            "LSTM units in layer 1: 96\n",
            "LSTM units in layer 2: 64\n",
            "Dropout rate for text: 0.3\n",
            "Number of CNN layers: 1\n",
            "Filters in CNN layers: 32\n",
            "Dropout rate for image: 0.5\n",
            "Dense layer units: 128\n",
            "Dropout rate for fusion: 0.4\n",
            "Learning rate: 0.0001\n"
          ]
        }
      ]
    },
    {
      "cell_type": "code",
      "source": [
        "import matplotlib.pyplot as plt\n",
        "\n",
        "def plot_training_validation_metrics(history):\n",
        "    # Plot training & validation accuracy values\n",
        "    plt.figure(figsize=(14, 5))\n",
        "\n",
        "    plt.subplot(1, 2, 1)\n",
        "    plt.plot(history.history['accuracy'], label='Training Accuracy')\n",
        "    plt.plot(history.history['val_accuracy'], label='Validation Accuracy')\n",
        "    plt.title('Model Accuracy')\n",
        "    plt.xlabel('Epochs')\n",
        "    plt.ylabel('Accuracy')\n",
        "    plt.legend(loc='upper left')\n",
        "\n",
        "    # Plot training & validation loss values\n",
        "    plt.subplot(1, 2, 2)\n",
        "    plt.plot(history.history['loss'], label='Training Loss')\n",
        "    plt.plot(history.history['val_loss'], label='Validation Loss')\n",
        "    plt.title('Model Loss')\n",
        "    plt.xlabel('Epochs')\n",
        "    plt.ylabel('Loss')\n",
        "    plt.legend(loc='upper left')\n",
        "\n",
        "    plt.show()\n",
        "\n",
        "# Call the function to plot the metrics\n",
        "plot_training_validation_metrics(history)\n"
      ],
      "metadata": {
        "id": "Gc29nMjTKDGO",
        "outputId": "ead701d5-ddbc-4aaa-9662-89db255939bc",
        "colab": {
          "base_uri": "https://localhost:8080/",
          "height": 366
        }
      },
      "execution_count": null,
      "outputs": [
        {
          "output_type": "display_data",
          "data": {
            "text/plain": [
              "<Figure size 1400x500 with 2 Axes>"
            ],
            "image/png": "[encoded data removed]"
          },
          "metadata": {}
        }
      ]
    },
    {
      "cell_type": "code",
      "source": [
        "\n",
        "# Evaluate the model\n",
        "val_loss, val_accuracy = fusion_model.evaluate([X_val_text, X_val_img], y_val_text)\n",
        "\n",
        "\n",
        "# Generate classification report and confusion matrix\n",
        "from sklearn.metrics import classification_report, confusion_matrix\n",
        "y_pred = fusion_model.predict([X_val_text, X_val_img])\n",
        "y_pred_classes = np.argmax(y_pred, axis=1)\n",
        "y_true = np.argmax(y_val_text, axis=1)\n",
        "print(\"Classification Report:\\n\", classification_report(y_true, y_pred_classes))\n",
        "print(\"Confusion Matrix:\\n\", confusion_matrix(y_true, y_pred_classes))"
      ],
      "metadata": {
        "colab": {
          "base_uri": "https://localhost:8080/"
        },
        "id": "dHon8BfKh0qj",
        "outputId": "f2adcf23-8919-46d4-c9d5-af0c0f922ee6"
      },
      "execution_count": null,
      "outputs": [
        {
          "output_type": "stream",
          "name": "stdout",
          "text": [
            "\u001b[1m79/79\u001b[0m \u001b[32m━━━━━━━━━━━━━━━━━━━━\u001b[0m\u001b[37m\u001b[0m \u001b[1m3s\u001b[0m 36ms/step - accuracy: 0.6509 - loss: 1.4418\n",
            "\u001b[1m79/79\u001b[0m \u001b[32m━━━━━━━━━━━━━━━━━━━━\u001b[0m\u001b[37m\u001b[0m \u001b[1m2s\u001b[0m 28ms/step\n",
            "Classification Report:\n",
            "               precision    recall  f1-score   support\n",
            "\n",
            "           0       0.44      0.12      0.18       121\n",
            "           1       0.52      0.58      0.55       882\n",
            "           2       0.73      0.73      0.73      1517\n",
            "\n",
            "    accuracy                           0.65      2520\n",
            "   macro avg       0.56      0.47      0.49      2520\n",
            "weighted avg       0.65      0.65      0.64      2520\n",
            "\n",
            "Confusion Matrix:\n",
            " [[  14   71   36]\n",
            " [   7  510  365]\n",
            " [  11  397 1109]]\n"
          ]
        }
      ]
    },
    {
      "cell_type": "code",
      "source": [],
      "metadata": {
        "id": "pXnKly_yJ9UH"
      },
      "execution_count": null,
      "outputs": []
    },
    {
      "cell_type": "code",
      "source": [
        "import tensorflow as tf\n",
        "\n",
        "# Load the Text (RNN/LSTM) model\n",
        "text_model = tf.keras.models.load_model('/content/drive/MyDrive/sentiment_analysis_model17/best_text_model1.keras')\n",
        "\n",
        "# Load the DenseNet (CNN) model\n",
        "densenet_model = tf.keras.models.load_model('/content/drive/MyDrive/sentiment_analysis_model54/best_densenet_model.keras')\n",
        "\n",
        "\n"
      ],
      "metadata": {
        "id": "y8jigLJE-Auu"
      },
      "execution_count": null,
      "outputs": []
    },
    {
      "cell_type": "code",
      "source": [
        "from sklearn.metrics import accuracy_score, precision_score, recall_score, f1_score\n",
        "from scipy import stats\n",
        "import numpy as np\n",
        "\n",
        "# Assuming y_val_text and y_val_img are the true labels\n",
        "# y_val_text should be used as the ground truth for all models as it represents the correct labels.\n",
        "\n",
        "# Generate predictions\n",
        "text_predictions = text_model.predict(X_val_text)\n",
        "image_predictions = densenet_model.predict(X_val_img)\n",
        "fusion_predictions = fusion_model.predict([X_val_text, X_val_img])\n",
        "\n",
        "# Convert predictions from one-hot encoding to class labels\n",
        "text_pred_classes = np.argmax(text_predictions, axis=1)\n",
        "image_pred_classes = np.argmax(image_predictions, axis=1)\n",
        "fusion_pred_classes = np.argmax(fusion_predictions, axis=1)\n",
        "\n",
        "# Convert true labels from one-hot encoding to class labels\n",
        "y_true = np.argmax(y_val_text, axis=1)\n",
        "\n",
        "# Calculate performance metrics for each model\n",
        "metrics = {\n",
        "    'text': {\n",
        "        'accuracy': accuracy_score(y_true, text_pred_classes),\n",
        "        'precision': precision_score(y_true, text_pred_classes, average='macro'),\n",
        "        'recall': recall_score(y_true, text_pred_classes, average='macro'),\n",
        "        'f1_score': f1_score(y_true, text_pred_classes, average='macro')\n",
        "    },\n",
        "    'image': {\n",
        "        'accuracy': accuracy_score(y_true, image_pred_classes),\n",
        "        'precision': precision_score(y_true, image_pred_classes, average='macro'),\n",
        "        'recall': recall_score(y_true, image_pred_classes, average='macro'),\n",
        "        'f1_score': f1_score(y_true, image_pred_classes, average='macro')\n",
        "    },\n",
        "    'fusion': {\n",
        "        'accuracy': accuracy_score(y_true, fusion_pred_classes),\n",
        "        'precision': precision_score(y_true, fusion_pred_classes, average='macro'),\n",
        "        'recall': recall_score(y_true, fusion_pred_classes, average='macro'),\n",
        "        'f1_score': f1_score(y_true, fusion_pred_classes, average='macro')\n",
        "    }\n",
        "}\n",
        "\n",
        "print(\"Performance Metrics:\")\n",
        "for model, metric in metrics.items():\n",
        "    print(f\"\\n{model.capitalize()} Model Metrics:\")\n",
        "    for metric_name, value in metric.items():\n",
        "        print(f\"{metric_name.capitalize()}: {value:.4f}\")\n",
        "\n",
        "# Since the t-tests require paired observations, we can simulate this by considering each prediction's correctness\n",
        "# as a paired observation (i.e., whether the prediction is correct or not).\n",
        "\n",
        "# Compute binary correct/incorrect predictions\n",
        "text_correct = (text_pred_classes == y_true).astype(int)\n",
        "image_correct = (image_pred_classes == y_true).astype(int)\n",
        "fusion_correct = (fusion_pred_classes == y_true).astype(int)\n",
        "\n",
        "# Conduct paired t-tests on correct/incorrect predictions\n",
        "t_test_results = {\n",
        "    'text_vs_fusion': stats.ttest_rel(text_correct, fusion_correct),\n",
        "    'image_vs_fusion': stats.ttest_rel(image_correct, fusion_correct),\n",
        "}\n",
        "\n",
        "print(\"\\nPaired t-test Results:\")\n",
        "for comparison, t_stat in t_test_results.items():\n",
        "    print(f\"{comparison.replace('_', ' ').capitalize()}:\")\n",
        "    print(f\"t-statistic = {t_stat.statistic:.4f}, p-value = {t_stat.pvalue:.4f}\")\n",
        "\n",
        "# Interpretation: If the p-value < 0.05, reject the null hypothesis and conclude that the fusion model\n",
        "# significantly outperforms the individual models.\n"
      ],
      "metadata": {
        "colab": {
          "base_uri": "https://localhost:8080/"
        },
        "id": "599YG9h6B8PO",
        "outputId": "2cb4d2ad-37a6-43d9-ecc0-e30adc4639f8"
      },
      "execution_count": null,
      "outputs": [
        {
          "output_type": "stream",
          "name": "stdout",
          "text": [
            "\u001b[1m79/79\u001b[0m \u001b[32m━━━━━━━━━━━━━━━━━━━━\u001b[0m\u001b[37m\u001b[0m \u001b[1m0s\u001b[0m 3ms/step\n",
            "\u001b[1m79/79\u001b[0m \u001b[32m━━━━━━━━━━━━━━━━━━━━\u001b[0m\u001b[37m\u001b[0m \u001b[1m1s\u001b[0m 17ms/step\n",
            "\u001b[1m79/79\u001b[0m \u001b[32m━━━━━━━━━━━━━━━━━━━━\u001b[0m\u001b[37m\u001b[0m \u001b[1m2s\u001b[0m 28ms/step\n",
            "Performance Metrics:\n",
            "\n",
            "Text Model Metrics:\n",
            "Accuracy: 0.6242\n",
            "Precision: 0.5027\n",
            "Recall: 0.4829\n",
            "F1_score: 0.4899\n",
            "\n",
            "Image Model Metrics:\n",
            "Accuracy: 0.5750\n",
            "Precision: 0.4223\n",
            "Recall: 0.4048\n",
            "F1_score: 0.4090\n",
            "\n",
            "Fusion Model Metrics:\n",
            "Accuracy: 0.6480\n",
            "Precision: 0.5645\n",
            "Recall: 0.4750\n",
            "F1_score: 0.4880\n",
            "\n",
            "Paired t-test Results:\n",
            "Text vs fusion:\n",
            "t-statistic = -2.2044, p-value = 0.0276\n",
            "Image vs fusion:\n",
            "t-statistic = -6.1507, p-value = 0.0000\n"
          ]
        }
      ]
    }
  ]
}