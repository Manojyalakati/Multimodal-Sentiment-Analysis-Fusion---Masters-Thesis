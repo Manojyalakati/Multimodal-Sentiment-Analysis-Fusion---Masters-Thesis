{
  "nbformat": 4,
  "nbformat_minor": 0,
  "metadata": {
    "colab": {
      "provenance": [],
      "machine_shape": "hm",
      "gpuType": "L4"
    },
    "kernelspec": {
      "name": "python3",
      "display_name": "Python 3"
    },
    "language_info": {
      "name": "python"
    },
    "accelerator": "GPU"
  },
  "cells": [
    {
      "cell_type": "code",
      "execution_count": null,
      "metadata": {
        "id": "gZhhwYNazh3v"
      },
      "outputs": [],
      "source": []
    },
    {
      "cell_type": "code",
      "execution_count": null,
      "metadata": {
        "colab": {
          "base_uri": "https://localhost:8080/"
        },
        "id": "RsHkuVxbhdee",
        "outputId": "709de3ad-d497-4cda-a162-47c6e03fa0bc"
      },
      "outputs": [
        {
          "output_type": "stream",
          "name": "stdout",
          "text": [
            "Mounted at /content/drive\n"
          ]
        }
      ],
      "source": [
        "from google.colab import drive\n",
        "drive.mount('/content/drive')"
      ]
    },
    {
      "cell_type": "code",
      "source": [
        "import zipfile\n",
        "import os\n",
        "\n",
        "# Path to the zip file in Google Drive\n",
        "zip_file_path = '/content/drive/MyDrive/dataset/MVSA-multiple.zip'\n",
        "extract_path = '/content/dataset'\n",
        "\n",
        "# Create the extraction directory\n",
        "os.makedirs(extract_path, exist_ok=True)\n",
        "\n",
        "# Unzip the file\n",
        "with zipfile.ZipFile(zip_file_path, 'r') as zip_ref:\n",
        "    zip_ref.extractall(extract_path)\n",
        "\n",
        "# Verify the extraction\n",
        "os.listdir(extract_path)"
      ],
      "metadata": {
        "colab": {
          "base_uri": "https://localhost:8080/"
        },
        "id": "IXRjp32Pho5V",
        "outputId": "31f7add2-31b7-47fe-ee57-62b26b9e0e56"
      },
      "execution_count": null,
      "outputs": [
        {
          "output_type": "execute_result",
          "data": {
            "text/plain": [
              "['MVSA']"
            ]
          },
          "metadata": {},
          "execution_count": 2
        }
      ]
    },
    {
      "cell_type": "code",
      "source": [
        "pip install keras_tuner"
      ],
      "metadata": {
        "colab": {
          "base_uri": "https://localhost:8080/"
        },
        "id": "dW2dJQLcfZiK",
        "outputId": "28d2a74c-d965-4660-c5ac-247a9b9b5142"
      },
      "execution_count": null,
      "outputs": [
        {
          "output_type": "stream",
          "name": "stdout",
          "text": [
            "Collecting keras_tuner\n",
            "  Downloading keras_tuner-1.4.7-py3-none-any.whl.metadata (5.4 kB)\n",
            "Requirement already satisfied: keras in /usr/local/lib/python3.10/dist-packages (from keras_tuner) (3.4.1)\n",
            "Requirement already satisfied: packaging in /usr/local/lib/python3.10/dist-packages (from keras_tuner) (24.1)\n",
            "Requirement already satisfied: requests in /usr/local/lib/python3.10/dist-packages (from keras_tuner) (2.32.3)\n",
            "Collecting kt-legacy (from keras_tuner)\n",
            "  Downloading kt_legacy-1.0.5-py3-none-any.whl.metadata (221 bytes)\n",
            "Requirement already satisfied: absl-py in /usr/local/lib/python3.10/dist-packages (from keras->keras_tuner) (1.4.0)\n",
            "Requirement already satisfied: numpy in /usr/local/lib/python3.10/dist-packages (from keras->keras_tuner) (1.26.4)\n",
            "Requirement already satisfied: rich in /usr/local/lib/python3.10/dist-packages (from keras->keras_tuner) (13.8.0)\n",
            "Requirement already satisfied: namex in /usr/local/lib/python3.10/dist-packages (from keras->keras_tuner) (0.0.8)\n",
            "Requirement already satisfied: h5py in /usr/local/lib/python3.10/dist-packages (from keras->keras_tuner) (3.11.0)\n",
            "Requirement already satisfied: optree in /usr/local/lib/python3.10/dist-packages (from keras->keras_tuner) (0.12.1)\n",
            "Requirement already satisfied: ml-dtypes in /usr/local/lib/python3.10/dist-packages (from keras->keras_tuner) (0.4.0)\n",
            "Requirement already satisfied: charset-normalizer<4,>=2 in /usr/local/lib/python3.10/dist-packages (from requests->keras_tuner) (3.3.2)\n",
            "Requirement already satisfied: idna<4,>=2.5 in /usr/local/lib/python3.10/dist-packages (from requests->keras_tuner) (3.8)\n",
            "Requirement already satisfied: urllib3<3,>=1.21.1 in /usr/local/lib/python3.10/dist-packages (from requests->keras_tuner) (2.0.7)\n",
            "Requirement already satisfied: certifi>=2017.4.17 in /usr/local/lib/python3.10/dist-packages (from requests->keras_tuner) (2024.7.4)\n",
            "Requirement already satisfied: typing-extensions>=4.5.0 in /usr/local/lib/python3.10/dist-packages (from optree->keras->keras_tuner) (4.12.2)\n",
            "Requirement already satisfied: markdown-it-py>=2.2.0 in /usr/local/lib/python3.10/dist-packages (from rich->keras->keras_tuner) (3.0.0)\n",
            "Requirement already satisfied: pygments<3.0.0,>=2.13.0 in /usr/local/lib/python3.10/dist-packages (from rich->keras->keras_tuner) (2.16.1)\n",
            "Requirement already satisfied: mdurl~=0.1 in /usr/local/lib/python3.10/dist-packages (from markdown-it-py>=2.2.0->rich->keras->keras_tuner) (0.1.2)\n",
            "Downloading keras_tuner-1.4.7-py3-none-any.whl (129 kB)\n",
            "\u001b[2K   \u001b[90m━━━━━━━━━━━━━━━━━━━━━━━━━━━━━━━━━━━━━━━━\u001b[0m \u001b[32m129.1/129.1 kB\u001b[0m \u001b[31m4.4 MB/s\u001b[0m eta \u001b[36m0:00:00\u001b[0m\n",
            "\u001b[?25hDownloading kt_legacy-1.0.5-py3-none-any.whl (9.6 kB)\n",
            "Installing collected packages: kt-legacy, keras_tuner\n",
            "Successfully installed keras_tuner-1.4.7 kt-legacy-1.0.5\n"
          ]
        }
      ]
    },
    {
      "cell_type": "code",
      "source": [
        "import os\n",
        "import numpy as np\n",
        "import pandas as pd\n",
        "import tensorflow as tf\n",
        "from sklearn.model_selection import train_test_split\n",
        "from sklearn.utils import class_weight\n",
        "from sklearn.feature_extraction.text import CountVectorizer\n",
        "from imblearn.over_sampling import SMOTE, ADASYN\n",
        "from tensorflow.keras.preprocessing.sequence import pad_sequences\n",
        "from tensorflow.keras.utils import to_categorical\n",
        "from tensorflow.keras.layers import Dense, Dropout, BatchNormalization, GlobalAveragePooling2D, Conv2D, MaxPooling2D, LSTM, Embedding, Input, Bidirectional, GlobalAveragePooling1D\n",
        "from tensorflow.keras.regularizers import l2\n",
        "from tensorflow.keras.models import Model\n",
        "from tensorflow.keras.optimizers import Adam\n",
        "from tensorflow.keras.applications import DenseNet121\n",
        "import tensorflow as tf\n",
        "\n",
        "def f1_score(y_true, y_pred):\n",
        "    y_pred = tf.round(y_pred)\n",
        "    tp = tf.reduce_sum(tf.cast(y_true * y_pred, 'float'), axis=0)\n",
        "    fp = tf.reduce_sum(tf.cast((1 - y_true) * y_pred, 'float'), axis=0)\n",
        "    fn = tf.reduce_sum(tf.cast(y_true * (1 - y_pred), 'float'), axis=0)\n",
        "\n",
        "    p = tp / (tp + fp + tf.keras.backend.epsilon())\n",
        "    r = tp / (tp + fn + tf.keras.backend.epsilon())\n",
        "\n",
        "    f1 = 2 * p * r / (p + r + tf.keras.backend.epsilon())\n",
        "    f1 = tf.where(tf.math.is_nan(f1), tf.zeros_like(f1), f1)\n",
        "    return tf.reduce_mean(f1)\n",
        "\n"
      ],
      "metadata": {
        "id": "MW85lv-h2RNs"
      },
      "execution_count": null,
      "outputs": []
    },
    {
      "cell_type": "code",
      "source": [
        "import pandas as pd\n",
        "from collections import Counter\n",
        "import re\n",
        "import nltk\n",
        "from nltk.corpus import stopwords\n",
        "from nltk.tokenize import word_tokenize\n",
        "from nltk.stem import WordNetLemmatizer\n",
        "from sklearn.model_selection import train_test_split\n",
        "from tensorflow.keras.preprocessing.text import Tokenizer\n",
        "from tensorflow.keras.preprocessing.sequence import pad_sequences\n",
        "from sklearn.utils import class_weight\n",
        "from tensorflow.keras import layers, Model\n",
        "from keras_tuner.tuners import RandomSearch\n",
        "import tensorflow as tf\n",
        "import os\n",
        "\n",
        "# Download necessary NLTK data files\n",
        "nltk.download('stopwords')\n",
        "nltk.download('punkt')\n",
        "nltk.download('wordnet')\n",
        "\n",
        "# Initialize the lemmatizer and stop words\n",
        "lemmatizer = WordNetLemmatizer()\n",
        "stop_words = set(stopwords.words('english'))\n",
        "\n",
        "# Text preprocessing function\n",
        "def preprocess_text(text):\n",
        "    text = text.lower()  # Convert to lowercase\n",
        "    text = re.sub(r'[^a-z\\s]', '', text)  # Remove punctuation and non-alphabetic characters\n",
        "    tokens = word_tokenize(text)  # Tokenize the text\n",
        "    tokens = [lemmatizer.lemmatize(token) for token in tokens if token not in stop_words]  # Lemmatize and remove stop words\n",
        "    return ' '.join(tokens)\n",
        "\n",
        "# Paths\n",
        "label_results_path = os.path.join(extract_path, 'MVSA/labelResultAll.txt')\n",
        "data_folder_path = os.path.join(extract_path, 'MVSA/data')\n",
        "\n",
        "# Load the label results file\n",
        "label_results = pd.read_csv(label_results_path, delimiter='\\t', header=None, names=['ID', 'annotation1', 'annotation2', 'annotation3'])\n",
        "\n",
        "# Split and process the text, image columns\n",
        "def safe_split(annotation):\n",
        "    parts = annotation.split(',')\n",
        "    if len(parts) != 2:\n",
        "        return ['unknown', 'unknown']\n",
        "    return parts\n",
        "\n",
        "for i in range(3):\n",
        "    label_results[[f'text_sentiment_{i+1}', f'image_sentiment_{i+1}']] = label_results[f'annotation{i+1}'].apply(safe_split).apply(pd.Series)\n",
        "\n",
        "label_results.drop(columns=[f'annotation{i+1}' for i in range(3)], inplace=True)\n",
        "\n",
        "def get_majority_sentiment(row):\n",
        "    text_sentiments = row[[f'text_sentiment_{i+1}' for i in range(3)]]\n",
        "    image_sentiments = row[[f'image_sentiment_{i+1}' for i in range(3)]]\n",
        "    majority_text_sentiment = Counter(text_sentiments).most_common(1)\n",
        "    majority_image_sentiment = Counter(image_sentiments).most_common(1)\n",
        "    text_sentiment = majority_text_sentiment[0][0] if len(majority_text_sentiment) == 1 and majority_text_sentiment[0][1] > 1 else 'unknown'\n",
        "    image_sentiment = majority_image_sentiment[0][0] if len(majority_image_sentiment) == 1 and majority_image_sentiment[0][1] > 1 else 'unknown'\n",
        "    return pd.Series([text_sentiment, image_sentiment], index=['text_sentiment', 'image_sentiment'])\n",
        "\n",
        "label_results[['text_sentiment', 'image_sentiment']] = label_results.apply(get_majority_sentiment, axis=1)\n",
        "label_results = label_results[(label_results['text_sentiment'] != 'unknown') & (label_results['image_sentiment'] != 'unknown')]\n",
        "\n",
        "# Load the image-text data\n",
        "files = os.listdir(data_folder_path)\n",
        "image_files = [f for f in files if f.endswith('.jpg')]\n",
        "text_files = [f for f in files if f.endswith('.txt')]\n",
        "\n",
        "# Create a DataFrame to hold the information\n",
        "data = {'ID': [], 'image_path': [], 'text': []}\n",
        "\n",
        "def read_text_file(file_path):\n",
        "    encodings = ['utf-8', 'latin-1', 'ISO-8859-1']\n",
        "    for encoding in encodings:\n",
        "        try:\n",
        "            with open(file_path, 'r', encoding=encoding) as file:\n",
        "                return file.read()\n",
        "        except UnicodeDecodeError:\n",
        "            continue\n",
        "    return None\n",
        "\n",
        "for image_file in image_files:\n",
        "    file_id = os.path.splitext(image_file)[0]\n",
        "    text_file = file_id + '.txt'\n",
        "    if text_file in text_files:\n",
        "        text_content = read_text_file(os.path.join(data_folder_path, text_file))\n",
        "        if text_content:\n",
        "            data['ID'].append(file_id)\n",
        "            data['image_path'].append(os.path.join(data_folder_path, image_file))\n",
        "            data['text'].append(text_content)\n",
        "\n",
        "df = pd.DataFrame(data)\n",
        "df['ID'] = df['ID'].astype(str)\n",
        "label_results['ID'] = label_results['ID'].astype(str)\n",
        "df = pd.merge(df, label_results[['ID', 'text_sentiment', 'image_sentiment']], on='ID')\n",
        "\n",
        "# Filter to keep only rows where text sentiment and image sentiment are the same\n",
        "df = df[df['text_sentiment'] == df['image_sentiment']]\n",
        "\n",
        "# Apply text preprocessing\n",
        "df['processed_text'] = df['text'].apply(preprocess_text)\n",
        "# Display the first few rows of the DataFrame\n",
        "print(df.head())\n",
        "# Find the size of the DataFrame\n",
        "dataframe_size = df.shape\n",
        "print(f\"The DataFrame has {dataframe_size[0]} rows and {dataframe_size[1]} columns.\")\n",
        "\n",
        "# Tokenize and pad the sequences\n",
        "tokenizer = Tokenizer(num_words=5000, oov_token='<OOV>')\n",
        "tokenizer.fit_on_texts(df['processed_text'].values)\n",
        "sequences = tokenizer.texts_to_sequences(df['processed_text'].values)\n",
        "\n",
        "# Define maximum length based on 95% coverage\n",
        "df['text_length'] = df['processed_text'].apply(lambda x: len(x.split()))\n",
        "max_length_coverage = df['text_length'].quantile(0.95)\n",
        "max_length = int(max_length_coverage)\n",
        "\n",
        "# Pad sequences\n",
        "padded_sequences = pad_sequences(sequences, maxlen=max_length, padding='post', truncating='post')\n",
        "\n",
        "# Encode the sentiment labels for text data\n",
        "sentiment_mapping = {'negative': 0, 'neutral': 1, 'positive': 2}\n",
        "df['text_sentiment_encoded'] = df['text_sentiment'].map(sentiment_mapping)\n",
        "y_text = tf.keras.utils.to_categorical(df['text_sentiment_encoded'], num_classes=3)\n",
        "\n",
        "# Train-test split\n",
        "X_train_text, X_val_text, y_train_text, y_val_text = train_test_split(padded_sequences, y_text, test_size=0.2, random_state=42, stratify=y_text)\n",
        "\n",
        "# Adjust class weights\n",
        "class_weights_dict = {\n",
        "    0: 1.0 * 4.0,  # Increase weight for Negative class, moderate increase\n",
        "    1: 0.98 * 1.5, # Moderate increase for Neutral class\n",
        "    2: 1.0         # Keep Positive class weight as is\n",
        "}\n",
        "\n",
        "\n",
        "# Hyperparameter Tuning Model Definition\n",
        "def build_text_model(hp):\n",
        "    text_input = layers.Input(shape=(X_train_text.shape[1],))\n",
        "    x = layers.Embedding(input_dim=5000, output_dim=hp.Int('embedding_dim', min_value=64, max_value=256, step=32))(text_input)\n",
        "    num_layers = hp.Int('num_layers', 1, 3)\n",
        "    for i in range(num_layers):\n",
        "        x = layers.Bidirectional(layers.LSTM(units=hp.Int(f'lstm_units_{i}', min_value=32, max_value=128, step=32),\n",
        "                                             return_sequences=(i < num_layers - 1),\n",
        "                                             kernel_regularizer=tf.keras.regularizers.l2(hp.Choice('l2_reg', values=[1e-4, 1e-3]))))(x)\n",
        "        x = layers.BatchNormalization()(x)\n",
        "        x = layers.Dropout(rate=hp.Float('dropout_rate', min_value=0.2, max_value=0.5, step=0.1))(x)\n",
        "    x = layers.Dense(units=hp.Int('dense_units', min_value=32, max_value=128, step=32), activation='relu',\n",
        "                     kernel_regularizer=tf.keras.regularizers.l2(hp.Choice('l2_reg', values=[1e-4, 1e-3])))(x)\n",
        "    x = layers.Dropout(rate=hp.Float('dropout_rate', min_value=0.2, max_value=0.5, step=0.1))(x)\n",
        "    output = layers.Dense(3, activation='softmax')(x)\n",
        "\n",
        "    model = Model(inputs=text_input, outputs=output)\n",
        "    model.compile(optimizer=tf.keras.optimizers.Adam(hp.Choice('learning_rate', values=[1e-3, 1e-4, 1e-5])),\n",
        "                  loss='categorical_crossentropy',\n",
        "                  metrics=['accuracy'])\n",
        "\n",
        "    return model\n",
        "\n",
        "# Initialize the tuner\n",
        "tuner = RandomSearch(\n",
        "    build_text_model,\n",
        "    objective='val_accuracy',\n",
        "    max_trials=20,\n",
        "    executions_per_trial=1,\n",
        "    directory='/content/drive/MyDrive/sentiment_analysis_model17/',\n",
        "    project_name='text_model_tuning'\n",
        ")\n",
        "\n",
        "# Run the hyperparameter search with class weights\n",
        "tuner.search(X_train_text, y_train_text, epochs=50, validation_split=0.2, class_weight=class_weights_dict, callbacks=[tf.keras.callbacks.EarlyStopping(monitor='val_loss', patience=5)])\n",
        "\n",
        "# Get the best hyperparameters and train the best model\n",
        "best_hps = tuner.get_best_hyperparameters(num_trials=1)[0]\n",
        "text_model = tuner.hypermodel.build(best_hps)\n",
        "history = text_model.fit(X_train_text, y_train_text, epochs=50, batch_size=32, validation_split=0.2, class_weight=class_weights_dict, callbacks=[tf.keras.callbacks.EarlyStopping(monitor='val_loss', patience=5)])\n",
        "\n",
        "# Save the best text model\n",
        "text_model_save_path = '/content/drive/MyDrive/sentiment_analysis_model17/best_text_model1.keras'\n",
        "text_model.save(text_model_save_path)\n"
      ],
      "metadata": {
        "colab": {
          "base_uri": "https://localhost:8080/"
        },
        "id": "hZ-SzGBKeZjZ",
        "outputId": "c839e167-34ea-4f99-8537-f8cb411c569a"
      },
      "execution_count": null,
      "outputs": [
        {
          "output_type": "stream",
          "name": "stderr",
          "text": [
            "[nltk_data] Downloading package stopwords to /root/nltk_data...\n",
            "[nltk_data]   Unzipping corpora/stopwords.zip.\n",
            "[nltk_data] Downloading package punkt to /root/nltk_data...\n",
            "[nltk_data]   Unzipping tokenizers/punkt.zip.\n",
            "[nltk_data] Downloading package wordnet to /root/nltk_data...\n"
          ]
        },
        {
          "output_type": "stream",
          "name": "stdout",
          "text": [
            "      ID                            image_path  \\\n",
            "0  21132  /content/dataset/MVSA/data/21132.jpg   \n",
            "1  12816  /content/dataset/MVSA/data/12816.jpg   \n",
            "4  15546  /content/dataset/MVSA/data/15546.jpg   \n",
            "5  15483  /content/dataset/MVSA/data/15483.jpg   \n",
            "6  11540  /content/dataset/MVSA/data/11540.jpg   \n",
            "\n",
            "                                                text text_sentiment  \\\n",
            "0                                     Old red rabbit        neutral   \n",
            "1  An aster covered in morning dew and cobwebs. M...       positive   \n",
            "4  Crafted in cotton fleece, this tunic will brin...       positive   \n",
            "5  Keeping refreshed @ Trinity Bellwoods Flea unt...        neutral   \n",
            "6  How well does the city do in preserving histor...        neutral   \n",
            "\n",
            "  image_sentiment                                     processed_text  \n",
            "0         neutral                                     old red rabbit  \n",
            "1        positive  aster covered morning dew cobweb mcmaster fore...  \n",
            "4        positive  crafted cotton fleece tunic bring fall harmony...  \n",
            "5         neutral  keeping refreshed trinity bellwoods flea dunda...  \n",
            "6         neutral  well city preserving historical building yeghi...  \n",
            "The DataFrame has 12599 rows and 6 columns.\n",
            "Reloading Tuner from /content/drive/MyDrive/sentiment_analysis_model17/text_model_tuning/tuner0.json\n",
            "Epoch 1/50\n",
            "\u001b[1m252/252\u001b[0m \u001b[32m━━━━━━━━━━━━━━━━━━━━\u001b[0m\u001b[37m\u001b[0m \u001b[1m11s\u001b[0m 13ms/step - accuracy: 0.4728 - loss: 1.9910 - val_accuracy: 0.5496 - val_loss: 1.0783\n",
            "Epoch 2/50\n",
            "\u001b[1m252/252\u001b[0m \u001b[32m━━━━━━━━━━━━━━━━━━━━\u001b[0m\u001b[37m\u001b[0m \u001b[1m3s\u001b[0m 11ms/step - accuracy: 0.6171 - loss: 1.2755 - val_accuracy: 0.5625 - val_loss: 0.9463\n",
            "Epoch 3/50\n",
            "\u001b[1m252/252\u001b[0m \u001b[32m━━━━━━━━━━━━━━━━━━━━\u001b[0m\u001b[37m\u001b[0m \u001b[1m3s\u001b[0m 12ms/step - accuracy: 0.7054 - loss: 0.9850 - val_accuracy: 0.5928 - val_loss: 0.9132\n",
            "Epoch 4/50\n",
            "\u001b[1m252/252\u001b[0m \u001b[32m━━━━━━━━━━━━━━━━━━━━\u001b[0m\u001b[37m\u001b[0m \u001b[1m3s\u001b[0m 12ms/step - accuracy: 0.7557 - loss: 0.8134 - val_accuracy: 0.5938 - val_loss: 0.9899\n",
            "Epoch 5/50\n",
            "\u001b[1m252/252\u001b[0m \u001b[32m━━━━━━━━━━━━━━━━━━━━\u001b[0m\u001b[37m\u001b[0m \u001b[1m3s\u001b[0m 11ms/step - accuracy: 0.8080 - loss: 0.6899 - val_accuracy: 0.6161 - val_loss: 1.1435\n",
            "Epoch 6/50\n",
            "\u001b[1m252/252\u001b[0m \u001b[32m━━━━━━━━━━━━━━━━━━━━\u001b[0m\u001b[37m\u001b[0m \u001b[1m3s\u001b[0m 11ms/step - accuracy: 0.8296 - loss: 0.5933 - val_accuracy: 0.5967 - val_loss: 1.1916\n",
            "Epoch 7/50\n",
            "\u001b[1m252/252\u001b[0m \u001b[32m━━━━━━━━━━━━━━━━━━━━\u001b[0m\u001b[37m\u001b[0m \u001b[1m3s\u001b[0m 12ms/step - accuracy: 0.8494 - loss: 0.5511 - val_accuracy: 0.5799 - val_loss: 1.3165\n",
            "Epoch 8/50\n",
            "\u001b[1m252/252\u001b[0m \u001b[32m━━━━━━━━━━━━━━━━━━━━\u001b[0m\u001b[37m\u001b[0m \u001b[1m3s\u001b[0m 12ms/step - accuracy: 0.8722 - loss: 0.4873 - val_accuracy: 0.6101 - val_loss: 1.8843\n"
          ]
        }
      ]
    },
    {
      "cell_type": "code",
      "source": [
        "best_hps = tuner.get_best_hyperparameters(num_trials=1)[0]\n"
      ],
      "metadata": {
        "id": "vhOyjVxubMjg"
      },
      "execution_count": null,
      "outputs": []
    },
    {
      "cell_type": "code",
      "source": [
        "print(f\"Best embedding dimension: {best_hps.get('embedding_dim')}\")\n",
        "print(f\"Number of LSTM layers: {best_hps.get('num_layers')}\")\n",
        "for i in range(best_hps.get('num_layers')):\n",
        "    print(f\"LSTM units in layer {i+1}: {best_hps.get(f'lstm_units_{i}')}\")\n",
        "print(f\"Dropout rate: {best_hps.get('dropout_rate')}\")\n",
        "print(f\"Dense layer units: {best_hps.get('dense_units')}\")\n",
        "print(f\"L2 regularization: {best_hps.get('l2_reg')}\")\n",
        "print(f\"Learning rate: {best_hps.get('learning_rate')}\")\n"
      ],
      "metadata": {
        "colab": {
          "base_uri": "https://localhost:8080/"
        },
        "id": "5-ilbrujbo29",
        "outputId": "3e0ecbb2-03a3-4080-ce36-7afac5766a2e"
      },
      "execution_count": null,
      "outputs": [
        {
          "output_type": "stream",
          "name": "stdout",
          "text": [
            "Best embedding dimension: 96\n",
            "Number of LSTM layers: 2\n",
            "LSTM units in layer 1: 128\n",
            "LSTM units in layer 2: 128\n",
            "Dropout rate: 0.4\n",
            "Dense layer units: 64\n",
            "L2 regularization: 0.0001\n",
            "Learning rate: 0.001\n"
          ]
        }
      ]
    },
    {
      "cell_type": "code",
      "source": [
        "# Evaluate the text model\n",
        "val_loss, val_accuracy = text_model.evaluate(X_val_text, y_val_text)\n",
        "\n",
        "# Print the validation accuracy and loss\n",
        "print(f\"Validation Loss: {val_loss:.4f}\")\n",
        "print(f\"Validation Accuracy: {val_accuracy:.4f}\")\n",
        "\n",
        "# Generate classification report and confusion matrix for the text model\n",
        "from sklearn.metrics import classification_report, confusion_matrix\n",
        "\n",
        "# Predict the classes\n",
        "y_pred = text_model.predict(X_val_text)\n",
        "y_pred_classes = np.argmax(y_pred, axis=1)\n",
        "\n",
        "# Convert true labels from one-hot encoding to class labels\n",
        "y_true = np.argmax(y_val_text, axis=1)\n",
        "\n",
        "# Print classification report\n",
        "print(\"Classification Report:\\n\", classification_report(y_true, y_pred_classes))\n",
        "\n",
        "# Print confusion matrix\n",
        "print(\"Confusion Matrix:\\n\", confusion_matrix(y_true, y_pred_classes))\n"
      ],
      "metadata": {
        "colab": {
          "base_uri": "https://localhost:8080/"
        },
        "id": "ffPV5dgQJhCu",
        "outputId": "e63a9db3-4fb2-45af-9169-73a21a2d9746"
      },
      "execution_count": null,
      "outputs": [
        {
          "output_type": "stream",
          "name": "stdout",
          "text": [
            "\u001b[1m79/79\u001b[0m \u001b[32m━━━━━━━━━━━━━━━━━━━━\u001b[0m\u001b[37m\u001b[0m \u001b[1m1s\u001b[0m 4ms/step - accuracy: 0.6223 - loss: 1.2215\n",
            "Validation Loss: 1.3076\n",
            "Validation Accuracy: 0.5988\n",
            "\u001b[1m79/79\u001b[0m \u001b[32m━━━━━━━━━━━━━━━━━━━━\u001b[0m\u001b[37m\u001b[0m \u001b[1m1s\u001b[0m 8ms/step\n",
            "Classification Report:\n",
            "               precision    recall  f1-score   support\n",
            "\n",
            "           0       0.20      0.40      0.27       121\n",
            "           1       0.49      0.51      0.50       882\n",
            "           2       0.74      0.67      0.70      1517\n",
            "\n",
            "    accuracy                           0.60      2520\n",
            "   macro avg       0.48      0.52      0.49      2520\n",
            "weighted avg       0.63      0.60      0.61      2520\n",
            "\n",
            "Confusion Matrix:\n",
            " [[  48   53   20]\n",
            " [ 100  450  332]\n",
            " [  93  413 1011]]\n"
          ]
        }
      ]
    },
    {
      "cell_type": "code",
      "source": [
        "import matplotlib.pyplot as plt\n",
        "\n",
        "def plot_training_validation_metrics(history):\n",
        "    # Plot training & validation accuracy values\n",
        "    plt.figure(figsize=(14, 5))\n",
        "\n",
        "    plt.subplot(1, 2, 1)\n",
        "    plt.plot(history.history['accuracy'], label='Training Accuracy')\n",
        "    plt.plot(history.history['val_accuracy'], label='Validation Accuracy')\n",
        "    plt.title('Model Accuracy')\n",
        "    plt.xlabel('Epochs')\n",
        "    plt.ylabel('Accuracy')\n",
        "    plt.legend(loc='upper left')\n",
        "\n",
        "    # Plot training & validation loss values\n",
        "    plt.subplot(1, 2, 2)\n",
        "    plt.plot(history.history['loss'], label='Training Loss')\n",
        "    plt.plot(history.history['val_loss'], label='Validation Loss')\n",
        "    plt.title('Model Loss')\n",
        "    plt.xlabel('Epochs')\n",
        "    plt.ylabel('Loss')\n",
        "    plt.legend(loc='upper left')\n",
        "\n",
        "    plt.show()\n",
        "\n",
        "# Call the function to plot the metrics\n",
        "plot_training_validation_metrics(history)\n"
      ],
      "metadata": {
        "colab": {
          "base_uri": "https://localhost:8080/",
          "height": 487
        },
        "id": "-l5-txuMIhjn",
        "outputId": "ba807376-627e-4e32-c7cc-914cd6215360"
      },
      "execution_count": null,
      "outputs": [
        {
          "output_type": "display_data",
          "data": {
            "text/plain": [
              "<Figure size 1400x500 with 2 Axes>"
            ],
            "image/png": "[encoded data removed]"
          },
          "metadata": {}
        }
      ]
    }
  ]
}